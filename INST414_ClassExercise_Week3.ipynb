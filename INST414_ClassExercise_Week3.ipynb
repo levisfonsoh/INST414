{
 "cells": [
  {
   "cell_type": "markdown",
   "id": "9e835021",
   "metadata": {},
   "source": [
    "### Exercise 1. Use the requests library to connect to the API from AviationAPI.com (20 minutes)"
   ]
  },
  {
   "cell_type": "code",
   "execution_count": 78,
   "id": "5f048540",
   "metadata": {},
   "outputs": [
    {
     "name": "stdout",
     "output_type": "stream",
     "text": [
      "DCA information: b'{\"DCA\":[{\"site_number\":\"03001.*A\",\"type\":\"AIRPORT\",\"facility_name\":\"RONALD REAGAN WASHINGTON NTL\",\"faa_ident\":\"DCA\",\"icao_ident\":\"KDCA\",\"region\":\"AEA\",\"district_office\":\"DCA\",\"state\":\"DC\",\"state_full\":\"DIST. OF COLUMBIA\",\"county\":\"ARLINGTON\",\"city\":\"WASHINGTON\",\"ownership\":\"PU\",\"use\":\"PU\",\"manager\":\"PAUL MALANDRINO, JR.\",\"manager_phone\":\"703-417-8050\",\"latitude\":\"38-51-05.2000N\",\"latitude_sec\":\"139865.2000N\",\"longitude\":\"077-02-15.8000W\",\"longitude_sec\":\"277335.8000W\",\"elevation\":\"14\",\"magnetic_variation\":\"11W\",\"tpa\":\"\",\"vfr_sectional\":\"WASHINGTON\",\"boundary_artcc\":\"ZDC\",\"boundary_artcc_name\":\"WASHINGTON\",\"responsible_artcc\":\"ZDC\",\"responsible_artcc_name\":\"WASHINGTON\",\"fss_phone_number\":\"\",\"fss_phone_numer_tollfree\":\"1-800-WX-BRIEF\",\"notam_facility_ident\":\"DCA\",\"status\":\"O\",\"certification_typedate\":\"I C S 05\\\\/1973\",\"customs_airport_of_entry\":\"N\",\"military_joint_use\":\"N\",\"military_landing\":\"N\",\"lighting_schedule\":\"\",\"beacon_schedule\":\"SS-SR\",\"control_tower\":\"Y\",\"unicom\":\"122.950\",\"ctaf\":\"\",\"effective_date\":\"11\\\\/04\\\\/2021\"}]}'\n",
      "IAD information: b'{\"IAD\":[{\"site_number\":\"03002.*A\",\"type\":\"AIRPORT\",\"facility_name\":\"WASHINGTON DULLES INTL\",\"faa_ident\":\"IAD\",\"icao_ident\":\"KIAD\",\"region\":\"AEA\",\"district_office\":\"DCA\",\"state\":\"DC\",\"state_full\":\"DIST. OF COLUMBIA\",\"county\":\"LOUDOUN\",\"city\":\"WASHINGTON\",\"ownership\":\"PU\",\"use\":\"PU\",\"manager\":\"MIKE STEWART\",\"manager_phone\":\"703-572-2730\",\"latitude\":\"38-56-50.8000N\",\"latitude_sec\":\"140210.8000N\",\"longitude\":\"077-27-35.8000W\",\"longitude_sec\":\"278855.8000W\",\"elevation\":\"313\",\"magnetic_variation\":\"10W\",\"tpa\":\"\",\"vfr_sectional\":\"WASHINGTON\",\"boundary_artcc\":\"ZDC\",\"boundary_artcc_name\":\"WASHINGTON\",\"responsible_artcc\":\"ZDC\",\"responsible_artcc_name\":\"WASHINGTON\",\"fss_phone_number\":\"\",\"fss_phone_numer_tollfree\":\"1-800-WX-BRIEF\",\"notam_facility_ident\":\"IAD\",\"status\":\"O\",\"certification_typedate\":\"I E S 05\\\\/1973\",\"customs_airport_of_entry\":\"N\",\"military_joint_use\":\"N\",\"military_landing\":\"Y\",\"lighting_schedule\":\"\",\"beacon_schedule\":\"SS-SR\",\"control_tower\":\"Y\",\"unicom\":\"122.950\",\"ctaf\":\"\",\"effective_date\":\"11\\\\/04\\\\/2021\"}]}'\n",
      "BWI information: b'{\"BWI\":[{\"site_number\":\"08456.*A\",\"type\":\"AIRPORT\",\"facility_name\":\"BALTIMORE\\\\/WASHINGTON INTL THURGOOD MARSHALL\",\"faa_ident\":\"BWI\",\"icao_ident\":\"KBWI\",\"region\":\"AEA\",\"district_office\":\"DCA\",\"state\":\"MD\",\"state_full\":\"MARYLAND\",\"county\":\"ANNE ARUNDEL\",\"city\":\"BALTIMORE\",\"ownership\":\"PU\",\"use\":\"PU\",\"manager\":\"JOHN STEWART\",\"manager_phone\":\"410-859-7018\",\"latitude\":\"39-10-32.6220N\",\"latitude_sec\":\"141032.6220N\",\"longitude\":\"076-40-08.3680W\",\"longitude_sec\":\"276008.3680W\",\"elevation\":\"143\",\"magnetic_variation\":\"11W\",\"tpa\":\"\",\"vfr_sectional\":\"WASHINGTON\",\"boundary_artcc\":\"ZDC\",\"boundary_artcc_name\":\"WASHINGTON\",\"responsible_artcc\":\"ZDC\",\"responsible_artcc_name\":\"WASHINGTON\",\"fss_phone_number\":\"\",\"fss_phone_numer_tollfree\":\"1-800-WX-BRIEF\",\"notam_facility_ident\":\"BWI\",\"status\":\"O\",\"certification_typedate\":\"I D S 05\\\\/1973\",\"customs_airport_of_entry\":\"N\",\"military_joint_use\":\"N\",\"military_landing\":\"Y\",\"lighting_schedule\":\"\",\"beacon_schedule\":\"SS-SR\",\"control_tower\":\"Y\",\"unicom\":\"122.950\",\"ctaf\":\"\",\"effective_date\":\"11\\\\/04\\\\/2021\"}]}'\n"
     ]
    }
   ],
   "source": [
    "import requests\n",
    "\n",
    "# DCA manager: PAUL MALANDRINO, JR.\n",
    "query = {'apt':'DCA'}\n",
    "a = requests.get('https://api.aviationapi.com/v1/airports', params=query)\n",
    "print(f'DCA information: {a.content}')\n",
    "\n",
    "# IAD manager: MIKE STEWART\n",
    "query_2 = {'apt':'IAD'}\n",
    "b = requests.get('https://api.aviationapi.com/v1/airports', params=query_2)\n",
    "print(f'IAD information: {b.content}')\n",
    "\n",
    "# BWI manager:JOHN STEWART\n",
    "query_3 = {'apt':'BWI'}\n",
    "c = requests.get('https://api.aviationapi.com/v1/airports', params=query_3)\n",
    "print(f'BWI information: {c.content}')"
   ]
  },
  {
   "cell_type": "markdown",
   "id": "e3006346",
   "metadata": {},
   "source": [
    "### Exercise 2. Movies and Graphs (20 minutes)"
   ]
  },
  {
   "cell_type": "code",
   "execution_count": 45,
   "id": "73fa7393",
   "metadata": {},
   "outputs": [],
   "source": [
    "%matplotlib inline"
   ]
  },
  {
   "cell_type": "code",
   "execution_count": 46,
   "id": "104cbc7e",
   "metadata": {},
   "outputs": [],
   "source": [
    "import json\n",
    "import random\n",
    "\n",
    "import numpy as np\n",
    "import pandas as pd\n",
    "import networkx as nx"
   ]
  },
  {
   "cell_type": "code",
   "execution_count": null,
   "id": "5d82c511",
   "metadata": {},
   "outputs": [],
   "source": [
    "g = nx.Graph() # Build the graph"
   ]
  },
  {
   "cell_type": "code",
   "execution_count": 47,
   "id": "b6948e3c",
   "metadata": {},
   "outputs": [
    {
     "name": "stdout",
     "output_type": "stream",
     "text": [
      "[['nm0000212', 'Meg Ryan'], ['nm0413168', 'Hugh Jackman'], ['nm0000630', 'Liev Schreiber'], ['nm0005227', 'Breckin Meyer']]\n",
      "Meg Ryan <-> Hugh Jackman\n",
      "Meg Ryan <-> Liev Schreiber\n",
      "Meg Ryan <-> Breckin Meyer\n",
      "Hugh Jackman <-> Liev Schreiber\n",
      "Hugh Jackman <-> Breckin Meyer\n",
      "Liev Schreiber <-> Breckin Meyer\n"
     ]
    }
   ],
   "source": [
    "with open(\"imdb_movies_1985to2022.json\", \"r\") as in_file:\n",
    "    for line in in_file:\n",
    "        \n",
    "        \n",
    "        \n",
    "        # Load the movie from this line\n",
    "        this_movie = json.loads(line)\n",
    "        print(this_movie['actors'])   \n",
    "        # Create a node for every actor\n",
    "        for actor_id,actor_name in this_movie['actors']:\n",
    "            \n",
    "            # Instead of passing, add the actor to the graph\n",
    "            g.add_node(actor_name)\n",
    "            #pass\n",
    "            \n",
    "            \n",
    "        # Iterate through the list of actors, generating all pairs\n",
    "        #. Starting with the first actor in the list, generate pairs with all subsequent actors\n",
    "        #. then continue to second actor in the list and repeat\n",
    "        i = 0 # Counter in the list\n",
    "        for left_actor_id,left_actor_name in this_movie['actors']:\n",
    "            for right_actor_id,right_actor_name in this_movie['actors'][i+1:]:\n",
    "\n",
    "                # Get the current weight, if it exists\n",
    "                \n",
    "                # Add an edge for these actors\n",
    "                g.add_edge(left_actor_name, right_actor_name)\n",
    "                #Print edges\n",
    "                print(left_actor_name, \"<->\", right_actor_name)\n",
    "                \n",
    "            i += 1 # increment the counter\n",
    "            \n",
    "        break"
   ]
  },
  {
   "cell_type": "code",
   "execution_count": 54,
   "id": "64bf7e5c",
   "metadata": {},
   "outputs": [
    {
     "name": "stdout",
     "output_type": "stream",
     "text": [
      "Nodes: 260725\n"
     ]
    }
   ],
   "source": [
    "# Print to confirm the graph is getting updated accordingly.\n",
    "print(\"Nodes:\", len(g.nodes))"
   ]
  },
  {
   "cell_type": "code",
   "execution_count": 49,
   "id": "3c0d8312",
   "metadata": {},
   "outputs": [],
   "source": [
    "# If you want to explore this graph in Gephi or some other\n",
    "#. graph analysis tool, NetworkX makes it easy to export data.\n",
    "#. Here, we use the GraphML format, which Gephi can read \n",
    "#. natively, to keep node attributes like Actor Name\n",
    "nx.write_graphml(g, \"actors.graphml\")"
   ]
  },
  {
   "cell_type": "code",
   "execution_count": 51,
   "id": "d229592e",
   "metadata": {},
   "outputs": [
    {
     "name": "stdout",
     "output_type": "stream",
     "text": [
      "Graph with 260725 nodes and 785964 edges\n"
     ]
    }
   ],
   "source": [
    "top_k = 20 # how many of the most central nodes to print\n"
   ]
  },
  {
   "cell_type": "markdown",
   "id": "617e3b43",
   "metadata": {},
   "source": [
    "### Exercise 3. Finding Actionable Insights (20 minutes)"
   ]
  },
  {
   "cell_type": "markdown",
   "id": "c68a23d3",
   "metadata": {},
   "source": [
    "1. Visit the Public API repository Links to an external site.on GitHub\n",
    "\n",
    "2. Think of an area of interest to you, pick and pick an API in that area\n",
    "\n",
    "3. Review the API’s documentation\n",
    "\n",
    "4. Describe an insight that supports a decision in your area of interest\n",
    "  \n",
    "  My area of interest is the bible which is a sub category under books. I want to see what information about the bible is available . Surprisingly, under the documentation section, I will have access to data related to books, chapters, sections, verses of the bible and data related to fair use as well. In addition, I will have access to various versions of the bible which will allow me to make comparisons. \n",
    "    \n"
   ]
  },
  {
   "cell_type": "code",
   "execution_count": null,
   "id": "51b85c2f",
   "metadata": {},
   "outputs": [],
   "source": []
  }
 ],
 "metadata": {
  "kernelspec": {
   "display_name": "Python 3 (ipykernel)",
   "language": "python",
   "name": "python3"
  },
  "language_info": {
   "codemirror_mode": {
    "name": "ipython",
    "version": 3
   },
   "file_extension": ".py",
   "mimetype": "text/x-python",
   "name": "python",
   "nbconvert_exporter": "python",
   "pygments_lexer": "ipython3",
   "version": "3.9.13"
  }
 },
 "nbformat": 4,
 "nbformat_minor": 5
}
