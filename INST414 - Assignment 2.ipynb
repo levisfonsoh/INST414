{
 "cells": [
  {
   "cell_type": "code",
   "execution_count": 22,
   "id": "55d2716d",
   "metadata": {},
   "outputs": [],
   "source": [
    "import requests\n",
    "import pandas as pd\n",
    "import json\n",
    "import re\n",
    "import networkx as nx\n",
    "import networkx\n",
    "%matplotlib inline\n"
   ]
  },
  {
   "cell_type": "code",
   "execution_count": 2,
   "id": "4f955702",
   "metadata": {},
   "outputs": [],
   "source": [
    "# API key = api-key=A9IKQgYHxfUzG2FCHgpzO4kBypcsV67w# \n",
    "\n",
    "def req2():\n",
    "    requestUrl = \"https://api.nytimes.com/svc/archive/v1/2020/11.json?api-key=A9IKQgYHxfUzG2FCHgpzO4kBypcsV67w\"\n",
    "    \n",
    "    response = requests.get(requestUrl)\n",
    "\n",
    "    response2 = response.json()\n",
    "    return response2\n",
    "    \n",
    "\n",
    "response = req2()\n"
   ]
  },
  {
   "cell_type": "code",
   "execution_count": 5,
   "id": "5e7e1675",
   "metadata": {},
   "outputs": [],
   "source": [
    "#z1 = response['response']['docs'][1]\n",
    "#print(z1)"
   ]
  },
  {
   "cell_type": "code",
   "execution_count": 7,
   "id": "56b62e6b",
   "metadata": {},
   "outputs": [
    {
     "data": {
      "text/plain": [
       "'A'"
      ]
     },
     "execution_count": 7,
     "metadata": {},
     "output_type": "execute_result"
    }
   ],
   "source": [
    "#y = z1['print_section']\n",
    "#y"
   ]
  },
  {
   "cell_type": "code",
   "execution_count": 3,
   "id": "3478c7cb",
   "metadata": {},
   "outputs": [],
   "source": [
    "z = response['response']['docs']"
   ]
  },
  {
   "cell_type": "code",
   "execution_count": 4,
   "id": "20024693",
   "metadata": {},
   "outputs": [
    {
     "name": "stdout",
     "output_type": "stream",
     "text": [
      "News\n",
      "Interactive Feature\n",
      "Review\n",
      "News Analysis\n",
      "briefing\n",
      "Editorial\n",
      "Video\n",
      "Op-Ed\n",
      "Obituary (Obit)\n",
      "List\n",
      "Letter\n",
      "An Appraisal\n",
      "Biography\n"
     ]
    }
   ],
   "source": [
    "main_dict = {}\n",
    "\n",
    "for x in z:\n",
    "    type_of_material = x['type_of_material']\n",
    "    j1 = x['byline']['original']\n",
    "    k2 = j1.replace('By','')\n",
    "    lq = k2.replace('and',',').split(',')\n",
    "    \n",
    "    #print(f'Type of material: {type_of_material}')\n",
    "    #print('Author(s)')\n",
    "    \n",
    "    for x in lq:\n",
    "        if x != '':\n",
    "            if type_of_material != '':\n",
    "                main_dict.setdefault(type_of_material, []).append(x)\n",
    "\n",
    "for k, v in main_dict.items():\n",
    "    #print(k, v)\n",
    "    print(k)\n",
    "    \n",
    "# do a for loop under line 15 going through each key, connect the author to that key(node)  \n",
    "#add_edge(A1, materia_type)\n",
    "# add weight ( stright of connection between)\n",
    "\n",
    "# line 20 is how to connect each author to material type\n",
    "# to avoid nodes error, create nodes firest before connecting the edges(line 21)\n"
   ]
  },
  {
   "cell_type": "code",
   "execution_count": 6,
   "id": "cb1ed0e8",
   "metadata": {},
   "outputs": [],
   "source": [
    "#s = nx.Graph() # Build the graph\n",
    "ggt = networkx.Graph()"
   ]
  },
  {
   "cell_type": "code",
   "execution_count": 5,
   "id": "c1189a64",
   "metadata": {},
   "outputs": [],
   "source": [
    "main_dictionary = {}\n",
    "\n",
    "for x in z:\n",
    "    type_of_material = x['type_of_material']\n",
    "    j1 = x['byline']['original']\n",
    "    h = j1.replace('By ', '')\n",
    "    s = h.replace(', ', ',')\n",
    "    t = s.replace(' and ', ',').split(',')\n",
    "    \n",
    "    #print(f'Type of material: {type_of_material}')\n",
    "    #print('Author(s)')\n",
    "    \n",
    "    for x in t:\n",
    "        # remove empty string in place of author name(s)\n",
    "        if x != '':\n",
    "            if type_of_material != '':\n",
    "                main_dictionary.setdefault(type_of_material, []).append(x)\n",
    "    \n",
    "\n",
    "    \n",
    "# do a for loop under line 15 going through each key, connect the author to that key(node)  \n",
    "#add_edge(A1, materia_type)\n",
    "# add weight ( stright of connection between)\n",
    "\n",
    "# line 20 is how to connect each author to material type\n",
    "# to avoid nodes error, create nodes firest before connecting the edges(line 21)\n"
   ]
  },
  {
   "cell_type": "code",
   "execution_count": 7,
   "id": "f47dcec7",
   "metadata": {},
   "outputs": [],
   "source": [
    "#for k, v in main_dictionary.items():\n",
    "for x in main_dictionary:\n",
    "    j = main_dictionary[x]\n",
    "    \n",
    "    #v.add_node(x)\n",
    "    #print(j)\n",
    "    for t in j:\n",
    "        \n",
    "        \n",
    "    #print(main_dictionary[x])\n",
    "    #break\n",
    "    #for u in main_dictionary[x]:\n",
    "    \n",
    "        current_weight = ggt.get_edge_data(t, x, default={\"weight\":0})[\"weight\"]\n",
    "        ggt.add_edge(t, x, weight=current_weight+1)\n",
    "\n",
    "    #print(v) 1758\n",
    "    #print(k)"
   ]
  },
  {
   "cell_type": "code",
   "execution_count": 8,
   "id": "71d5915a",
   "metadata": {},
   "outputs": [
    {
     "name": "stdout",
     "output_type": "stream",
     "text": [
      "Total nodes: 1428\n",
      "Total edges: 1577\n"
     ]
    }
   ],
   "source": [
    "print(\"Total nodes:\", len(ggt.nodes))\n",
    "print('Total edges:', len(ggt.edges))"
   ]
  },
  {
   "cell_type": "code",
   "execution_count": 63,
   "id": "57348a5b",
   "metadata": {},
   "outputs": [],
   "source": [
    "# If you want to explore this graph in Gephi or some other\n",
    "#. graph analysis tool, NetworkX makes it easy to export data.\n",
    "#. Here, we use the GraphML format, which Gephi can read \n",
    "#. natively, to keep node attributes like Actor Name\n",
    "#nx.write_graphml(v, \"nyt_mag.graphml\")\n",
    "nx.write_gml(s, \"nyt_a2.gml\")"
   ]
  },
  {
   "cell_type": "code",
   "execution_count": 17,
   "id": "341d0760",
   "metadata": {},
   "outputs": [],
   "source": [
    "top_k = 8"
   ]
  },
  {
   "cell_type": "code",
   "execution_count": 28,
   "id": "45501c3d",
   "metadata": {
    "scrolled": true
   },
   "outputs": [
    {
     "data": {
      "text/html": [
       "<div>\n",
       "<style scoped>\n",
       "    .dataframe tbody tr th:only-of-type {\n",
       "        vertical-align: middle;\n",
       "    }\n",
       "\n",
       "    .dataframe tbody tr th {\n",
       "        vertical-align: top;\n",
       "    }\n",
       "\n",
       "    .dataframe thead th {\n",
       "        text-align: right;\n",
       "    }\n",
       "</style>\n",
       "<table border=\"1\" class=\"dataframe\">\n",
       "  <thead>\n",
       "    <tr style=\"text-align: right;\">\n",
       "      <th></th>\n",
       "      <th>Degree of Centrality</th>\n",
       "    </tr>\n",
       "    <tr>\n",
       "      <th>Node</th>\n",
       "      <th></th>\n",
       "    </tr>\n",
       "  </thead>\n",
       "  <tbody>\n",
       "    <tr>\n",
       "      <th>News</th>\n",
       "      <td>0.735109</td>\n",
       "    </tr>\n",
       "    <tr>\n",
       "      <th>Op-Ed</th>\n",
       "      <td>0.128942</td>\n",
       "    </tr>\n",
       "    <tr>\n",
       "      <th>Review</th>\n",
       "      <td>0.078486</td>\n",
       "    </tr>\n",
       "    <tr>\n",
       "      <th>Interactive Feature</th>\n",
       "      <td>0.071479</td>\n",
       "    </tr>\n",
       "    <tr>\n",
       "      <th>Obituary (Obit)</th>\n",
       "      <td>0.034338</td>\n",
       "    </tr>\n",
       "    <tr>\n",
       "      <th>Video</th>\n",
       "      <td>0.027330</td>\n",
       "    </tr>\n",
       "    <tr>\n",
       "      <th>briefing</th>\n",
       "      <td>0.020322</td>\n",
       "    </tr>\n",
       "    <tr>\n",
       "      <th>News Analysis</th>\n",
       "      <td>0.004205</td>\n",
       "    </tr>\n",
       "  </tbody>\n",
       "</table>\n",
       "</div>"
      ],
      "text/plain": [
       "                     Degree of Centrality\n",
       "Node                                     \n",
       "News                             0.735109\n",
       "Op-Ed                            0.128942\n",
       "Review                           0.078486\n",
       "Interactive Feature              0.071479\n",
       "Obituary (Obit)                  0.034338\n",
       "Video                            0.027330\n",
       "briefing                         0.020322\n",
       "News Analysis                    0.004205"
      ]
     },
     "execution_count": 28,
     "metadata": {},
     "output_type": "execute_result"
    }
   ],
   "source": [
    "df_list = []\n",
    "# Calculate degree centrality for all nodes\n",
    "centrality_degree = nx.degree_centrality(ggt)\n",
    "\n",
    "# sort node-centrality dictionary by metric, and reverse to get top elements first\n",
    "for u in sorted(centrality_degree, key=centrality_degree.get, reverse=True)[:top_k]:\n",
    "    #print(u, g.nodes[u], centrality_degree[u])\n",
    "    #print(u, centrality_degree[u])\n",
    "    df_list.append({'Node': u, 'Degree of Centrality': centrality_degree[u]})\n",
    "\n",
    "df = pd.DataFrame(df_list)\n",
    "df.set_index('Node')"
   ]
  }
 ],
 "metadata": {
  "kernelspec": {
   "display_name": "Python 3 (ipykernel)",
   "language": "python",
   "name": "python3"
  },
  "language_info": {
   "codemirror_mode": {
    "name": "ipython",
    "version": 3
   },
   "file_extension": ".py",
   "mimetype": "text/x-python",
   "name": "python",
   "nbconvert_exporter": "python",
   "pygments_lexer": "ipython3",
   "version": "3.9.13"
  }
 },
 "nbformat": 4,
 "nbformat_minor": 5
}
