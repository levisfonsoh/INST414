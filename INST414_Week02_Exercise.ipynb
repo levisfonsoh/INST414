{
 "cells": [
  {
   "cell_type": "code",
   "execution_count": 255,
   "id": "52a08ca2",
   "metadata": {},
   "outputs": [
    {
     "name": "stdout",
     "output_type": "stream",
     "text": [
      "Average rating: 6.816666666666665\n"
     ]
    }
   ],
   "source": [
    "import json\n",
    "\n",
    "    \n",
    "def rating_calculator(a):\n",
    "    \n",
    "    with open(a, 'r') as file:\n",
    "        \n",
    "        name_counter = 0\n",
    "        rating_counter = 0\n",
    "        \n",
    "        for line in file:\n",
    "            \n",
    "            movie_details = json.loads(line)\n",
    "            \n",
    "            actors = movie_details[\"actors\"]\n",
    "            \n",
    "            for actor in actors:\n",
    "                \n",
    "                actor_name = actor[1]\n",
    "                \n",
    "                if \"Hugh Jackman\" in actor_name:\n",
    "                    \n",
    "                    name_counter += 1\n",
    "                    \n",
    "                    rating_counter += float(movie_details[\"rating\"][\"avg\"])\n",
    "                    \n",
    "        print(f'Average rating: {rating_counter/name_counter}')\n",
    "        \n",
    "        \n",
    "print_ave= rating_calculator(\"imdb_movies_1985to2022.json\")"
   ]
  }
 ],
 "metadata": {
  "kernelspec": {
   "display_name": "Python 3 (ipykernel)",
   "language": "python",
   "name": "python3"
  },
  "language_info": {
   "codemirror_mode": {
    "name": "ipython",
    "version": 3
   },
   "file_extension": ".py",
   "mimetype": "text/x-python",
   "name": "python",
   "nbconvert_exporter": "python",
   "pygments_lexer": "ipython3",
   "version": "3.9.13"
  }
 },
 "nbformat": 4,
 "nbformat_minor": 5
}
