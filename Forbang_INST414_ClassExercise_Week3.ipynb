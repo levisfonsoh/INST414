{
 "cells": [
  {
   "cell_type": "markdown",
   "id": "9e835021",
   "metadata": {},
   "source": [
    "### Exercise 1. Use the requests library to connect to the API from AviationAPI.com (20 minutes)"
   ]
  },
  {
   "cell_type": "code",
   "execution_count": 53,
   "id": "919cfdf0",
   "metadata": {},
   "outputs": [
    {
     "data": {
      "text/plain": [
       "404"
      ]
     },
     "execution_count": 53,
     "metadata": {},
     "output_type": "execute_result"
    }
   ],
   "source": [
    "import requests\n",
    "\n",
    "r = requests.get('https://api.aviationapi.com/v1/airports')\n",
    "\n",
    "r.status_code\n",
    "\n",
    "# still working on how to resolve the 404 error message I'm getting\n"
   ]
  },
  {
   "cell_type": "markdown",
   "id": "e3006346",
   "metadata": {},
   "source": [
    "### Exercise 2. Movies and Graphs (20 minutes)"
   ]
  },
  {
   "cell_type": "code",
   "execution_count": 45,
   "id": "73fa7393",
   "metadata": {},
   "outputs": [],
   "source": [
    "%matplotlib inline"
   ]
  },
  {
   "cell_type": "code",
   "execution_count": 46,
   "id": "104cbc7e",
   "metadata": {},
   "outputs": [],
   "source": [
    "import json\n",
    "import random\n",
    "\n",
    "import numpy as np\n",
    "import pandas as pd\n",
    "import networkx as nx"
   ]
  },
  {
   "cell_type": "code",
   "execution_count": null,
   "id": "5d82c511",
   "metadata": {},
   "outputs": [],
   "source": [
    "g = nx.Graph() # Build the graph"
   ]
  },
  {
   "cell_type": "code",
   "execution_count": 47,
   "id": "b6948e3c",
   "metadata": {},
   "outputs": [
    {
     "name": "stdout",
     "output_type": "stream",
     "text": [
      "[['nm0000212', 'Meg Ryan'], ['nm0413168', 'Hugh Jackman'], ['nm0000630', 'Liev Schreiber'], ['nm0005227', 'Breckin Meyer']]\n",
      "Meg Ryan <-> Hugh Jackman\n",
      "Meg Ryan <-> Liev Schreiber\n",
      "Meg Ryan <-> Breckin Meyer\n",
      "Hugh Jackman <-> Liev Schreiber\n",
      "Hugh Jackman <-> Breckin Meyer\n",
      "Liev Schreiber <-> Breckin Meyer\n"
     ]
    }
   ],
   "source": [
    "with open(\"imdb_movies_1985to2022.json\", \"r\") as in_file:\n",
    "    for line in in_file:\n",
    "        \n",
    "        \n",
    "        \n",
    "        # Load the movie from this line\n",
    "        this_movie = json.loads(line)\n",
    "        print(this_movie['actors'])   \n",
    "        # Create a node for every actor\n",
    "        for actor_id,actor_name in this_movie['actors']:\n",
    "            \n",
    "            # Instead of passing, add the actor to the graph\n",
    "            g.add_node(actor_name)\n",
    "            #pass\n",
    "            \n",
    "            \n",
    "        # Iterate through the list of actors, generating all pairs\n",
    "        #. Starting with the first actor in the list, generate pairs with all subsequent actors\n",
    "        #. then continue to second actor in the list and repeat\n",
    "        i = 0 # Counter in the list\n",
    "        for left_actor_id,left_actor_name in this_movie['actors']:\n",
    "            for right_actor_id,right_actor_name in this_movie['actors'][i+1:]:\n",
    "\n",
    "                # Get the current weight, if it exists\n",
    "                \n",
    "                # Add an edge for these actors\n",
    "                g.add_edge(left_actor_name, right_actor_name)\n",
    "                #Print edges\n",
    "                print(left_actor_name, \"<->\", right_actor_name)\n",
    "                \n",
    "            i += 1 # increment the counter\n",
    "            \n",
    "        break"
   ]
  },
  {
   "cell_type": "code",
   "execution_count": 54,
   "id": "64bf7e5c",
   "metadata": {},
   "outputs": [
    {
     "name": "stdout",
     "output_type": "stream",
     "text": [
      "Nodes: 260725\n"
     ]
    }
   ],
   "source": [
    "# Print to confirm the graph is getting updated accordingly.\n",
    "print(\"Nodes:\", len(g.nodes))"
   ]
  },
  {
   "cell_type": "code",
   "execution_count": 49,
   "id": "3c0d8312",
   "metadata": {},
   "outputs": [],
   "source": [
    "# If you want to explore this graph in Gephi or some other\n",
    "#. graph analysis tool, NetworkX makes it easy to export data.\n",
    "#. Here, we use the GraphML format, which Gephi can read \n",
    "#. natively, to keep node attributes like Actor Name\n",
    "nx.write_graphml(g, \"actors.graphml\")"
   ]
  },
  {
   "cell_type": "code",
   "execution_count": 51,
   "id": "d229592e",
   "metadata": {},
   "outputs": [
    {
     "name": "stdout",
     "output_type": "stream",
     "text": [
      "Graph with 260725 nodes and 785964 edges\n"
     ]
    }
   ],
   "source": [
    "top_k = 20 # how many of the most central nodes to print\n"
   ]
  },
  {
   "cell_type": "markdown",
   "id": "617e3b43",
   "metadata": {},
   "source": [
    "### Exercise 3. Finding Actionable Insights (20 minutes)"
   ]
  },
  {
   "cell_type": "markdown",
   "id": "c68a23d3",
   "metadata": {},
   "source": [
    "1. Visit the Public API repository Links to an external site.on GitHub\n",
    "\n",
    "2. Think of an area of interest to you, pick and pick an API in that area\n",
    "\n",
    "3. Review the API’s documentation\n",
    "\n",
    "4. Describe an insight that supports a decision in your area of interest\n",
    "  \n",
    "  My area of interest is the bible which is a sub category under books. I want to see what information about the bible is available . Surprisingly, under the documentation section, I will have access to data related to books, chapters, sections, verses of the bible and data related to fair use as well. In addition, I will have access to various versions of the bible which will allow me to make comparisons. \n",
    "    \n"
   ]
  },
  {
   "cell_type": "code",
   "execution_count": null,
   "id": "51b85c2f",
   "metadata": {},
   "outputs": [],
   "source": []
  }
 ],
 "metadata": {
  "kernelspec": {
   "display_name": "Python 3 (ipykernel)",
   "language": "python",
   "name": "python3"
  },
  "language_info": {
   "codemirror_mode": {
    "name": "ipython",
    "version": 3
   },
   "file_extension": ".py",
   "mimetype": "text/x-python",
   "name": "python",
   "nbconvert_exporter": "python",
   "pygments_lexer": "ipython3",
   "version": "3.9.13"
  }
 },
 "nbformat": 4,
 "nbformat_minor": 5
}
